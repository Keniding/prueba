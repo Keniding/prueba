{
  "nbformat": 4,
  "nbformat_minor": 0,
  "metadata": {
    "colab": {
      "provenance": [],
      "authorship_tag": "ABX9TyOUBH8aY53cWYei326FCASA",
      "include_colab_link": true
    },
    "kernelspec": {
      "name": "python3",
      "display_name": "Python 3"
    },
    "language_info": {
      "name": "python"
    }
  },
  "cells": [
    {
      "cell_type": "markdown",
      "metadata": {
        "id": "view-in-github",
        "colab_type": "text"
      },
      "source": [
        "<a href=\"https://colab.research.google.com/github/Keniding/prueba/blob/main/Untitled0.ipynb\" target=\"_parent\"><img src=\"https://colab.research.google.com/assets/colab-badge.svg\" alt=\"Open In Colab\"/></a>"
      ]
    },
    {
      "cell_type": "code",
      "execution_count": 2,
      "metadata": {
        "id": "tAN2jsHASAWW"
      },
      "outputs": [],
      "source": [
        "import tensorflow as tf\n",
        "import numpy as np\n",
        "import matplotlib.pyplot as plt\n"
      ]
    },
    {
      "cell_type": "code",
      "source": [
        "\n",
        "celsius = np.array([-40, -10, 0, 8, 15, 22, 38], dtype=float)\n",
        "fahrentheit = np.array([-40, 14, 32, 46, 59, 72, 100], dtype=float)\n"
      ],
      "metadata": {
        "id": "YB5AgqCVSW6r"
      },
      "execution_count": 3,
      "outputs": []
    },
    {
      "cell_type": "code",
      "source": [
        "\n",
        "#capa = tf.keras.layers.Dense(units=1, input_shape=[1])\n",
        "#modelo = tf.keras.Sequential([capa])\n",
        "\n",
        "oculta1 = tf.keras.layers.Dense(units=3, input_shape=[1])\n",
        "oculta2 = tf.keras.layers.Dense(units=3)\n",
        "salida = tf.keras.layers.Dense(units=1)\n",
        "modelo = tf.keras.Sequential([oculta1, oculta2, salida])"
      ],
      "metadata": {
        "id": "mCIq9CZCSX3U"
      },
      "execution_count": 4,
      "outputs": []
    },
    {
      "cell_type": "code",
      "source": [
        "modelo.compile(\n",
        "    optimizer = tf.keras.optimizers.Adam(0.1), \n",
        "    loss = 'mean_squared_error'\n",
        ")\n"
      ],
      "metadata": {
        "id": "I5RVoJ5QSf_4"
      },
      "execution_count": 5,
      "outputs": []
    },
    {
      "cell_type": "code",
      "source": [
        "\n",
        "print(\"Comenzando entrenamiento\")\n",
        "historial = modelo.fit(celsius, fahrentheit, epochs = 1000, verbose=False)\n",
        "print(\"Modelo entrenado\")\n"
      ],
      "metadata": {
        "colab": {
          "base_uri": "https://localhost:8080/"
        },
        "id": "GUopcyu0Si_O",
        "outputId": "0a65e14d-b8c9-4904-c85f-40e4a891a228"
      },
      "execution_count": 6,
      "outputs": [
        {
          "output_type": "stream",
          "name": "stdout",
          "text": [
            "Comenzando entrenamiento\n",
            "Modelo entrenado\n"
          ]
        }
      ]
    },
    {
      "cell_type": "code",
      "source": [
        "\n",
        "plt.xlabel(\"# Compilaciones\")\n",
        "plt.ylabel(\"Magnitud de perdida\")\n",
        "plt.plot(historial.history[\"loss\"])\n"
      ],
      "metadata": {
        "colab": {
          "base_uri": "https://localhost:8080/",
          "height": 296
        },
        "id": "Q3IYTm_pSqaC",
        "outputId": "67d6aa8e-d7c8-4133-f2fd-8f6ee56cdd33"
      },
      "execution_count": 10,
      "outputs": [
        {
          "output_type": "execute_result",
          "data": {
            "text/plain": [
              "[<matplotlib.lines.Line2D at 0x7f8e376c24f0>]"
            ]
          },
          "metadata": {},
          "execution_count": 10
        },
        {
          "output_type": "display_data",
          "data": {
            "text/plain": [
              "<Figure size 432x288 with 1 Axes>"
            ],
            "image/png": "[encoded data removed]"
          },
          "metadata": {
            "needs_background": "light"
          }
        }
      ]
    },
    {
      "cell_type": "code",
      "source": [
        "\n",
        "print(\"Prediccion\")\n",
        "resultado = modelo.predict([100.0])\n",
        "print(\"El resultado es \" + str(resultado) + \"Fahrenheit\")"
      ],
      "metadata": {
        "id": "UsF95zaTSvUs",
        "outputId": "57a470c8-b659-4a8c-ee36-df6e691a6370",
        "colab": {
          "base_uri": "https://localhost:8080/"
        }
      },
      "execution_count": 8,
      "outputs": [
        {
          "output_type": "stream",
          "name": "stdout",
          "text": [
            "Prediccion\n",
            "1/1 [==============================] - 0s 130ms/step\n",
            "El resultado es [[211.7473]]Fahrenheit\n"
          ]
        }
      ]
    },
    {
      "cell_type": "code",
      "source": [
        "print(\"Variables internas y parametros de las neuronas\")\n",
        "#print(capa.get_weights())\n",
        "print(oculta1.get_weights())\n",
        "print(oculta2.get_weights())\n",
        "print(salida.get_weights())"
      ],
      "metadata": {
        "colab": {
          "base_uri": "https://localhost:8080/"
        },
        "id": "JJ8sR5tpTaWZ",
        "outputId": "3842f5c1-92de-47ff-8fe8-299ea39c7bf2"
      },
      "execution_count": 9,
      "outputs": [
        {
          "output_type": "stream",
          "name": "stdout",
          "text": [
            "Variables internas y parametros de las neuronas\n",
            "[array([[-0.01370793,  0.06225796, -0.48843908]], dtype=float32), array([-2.6587532,  1.180246 , -2.8432968], dtype=float32)]\n",
            "[array([[ 0.78641355,  0.04888675,  0.8096068 ],\n",
            "       [ 0.64550954, -0.5218634 , -0.59416646],\n",
            "       [ 1.0500457 ,  0.88567835,  0.6913069 ]], dtype=float32), array([-2.871561 , -2.8398619, -2.8446763], dtype=float32)]\n",
            "[array([[-1.3536683],\n",
            "       [-1.0611556],\n",
            "       [-1.6830509]], dtype=float32), array([2.848496], dtype=float32)]\n"
          ]
        }
      ]
    }
  ]
}